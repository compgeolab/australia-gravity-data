{
 "cells": [
  {
   "cell_type": "markdown",
   "metadata": {},
   "source": [
    "# Build a full catalogue of datasets\n",
    "\n",
    "While there is an [official catalogue of all surveys](https://ecat.ga.gov.au/geonetwork/srv/eng/catalog.search#/metadata/124049), \n",
    "there is no way to download all files in one go. \n",
    "I had to manually download the metadata records (ID, title, file location) for the surveys in batches of 100 (the maximum the website permitted). This lead to 16 CSV files with the information I need.  \n",
    "\n",
    "This notebook builds a unified catalogue of survey IDs, titles, and download links. It will also query the server and try to figure out the disk space required for the surveys."
   ]
  },
  {
   "cell_type": "code",
   "execution_count": 1,
   "metadata": {},
   "outputs": [],
   "source": [
    "from pathlib import Path\n",
    "import pandas as pd\n",
    "import requests\n",
    "import matplotlib.pyplot as plt\n",
    "from tqdm import tqdm"
   ]
  },
  {
   "cell_type": "markdown",
   "metadata": {},
   "source": [
    "## Combine the metadata records\n",
    "\n",
    "Read in all downloaded records and combine them into a single DataFrame."
   ]
  },
  {
   "cell_type": "code",
   "execution_count": 2,
   "metadata": {},
   "outputs": [],
   "source": [
    "metadata_dir = Path(\"..\") / \"metadata\""
   ]
  },
  {
   "cell_type": "code",
   "execution_count": 3,
   "metadata": {},
   "outputs": [
    {
     "name": "stdout",
     "output_type": "stream",
     "text": [
      "Reading file: ../metadata/metadata_records(13).csv\n",
      "Reading file: ../metadata/metadata_records.csv\n",
      "Reading file: ../metadata/metadata_records(12).csv\n",
      "Reading file: ../metadata/metadata_records(15).csv\n",
      "Reading file: ../metadata/metadata_records(4).csv\n",
      "Reading file: ../metadata/metadata_records(14).csv\n",
      "Reading file: ../metadata/metadata_records(1).csv\n",
      "Reading file: ../metadata/metadata_records(11).csv\n",
      "Reading file: ../metadata/metadata_records(16).csv\n",
      "Reading file: ../metadata/metadata_records(5).csv\n",
      "Reading file: ../metadata/metadata_records(9).csv\n",
      "Reading file: ../metadata/metadata_records(8).csv\n",
      "Reading file: ../metadata/metadata_records(3).csv\n",
      "Reading file: ../metadata/metadata_records(7).csv\n",
      "Reading file: ../metadata/metadata_records(6).csv\n",
      "Reading file: ../metadata/metadata_records(2).csv\n",
      "Reading file: ../metadata/metadata_records(10).csv\n",
      "\n",
      "Unique entries in the catalogue: 1631\n"
     ]
    }
   ],
   "source": [
    "tmp = []\n",
    "for fname in metadata_dir.glob(\"metadata_records*.csv\"):\n",
    "    print(f\"Reading file: {fname}\")\n",
    "    tmp.append(pd.read_csv(fname, header=0, escapechar='\\\\', encoding='utf-8'))\n",
    "catalogue = pd.concat(tmp)\n",
    "print(f\"\\nUnique entries in the catalogue: {catalogue.uuid.unique().size}\")"
   ]
  },
  {
   "cell_type": "code",
   "execution_count": 4,
   "metadata": {},
   "outputs": [
    {
     "data": {
      "text/html": [
       "<div>\n",
       "<style scoped>\n",
       "    .dataframe tbody tr th:only-of-type {\n",
       "        vertical-align: middle;\n",
       "    }\n",
       "\n",
       "    .dataframe tbody tr th {\n",
       "        vertical-align: top;\n",
       "    }\n",
       "\n",
       "    .dataframe thead th {\n",
       "        text-align: right;\n",
       "    }\n",
       "</style>\n",
       "<table border=\"1\" class=\"dataframe\">\n",
       "  <thead>\n",
       "    <tr style=\"text-align: right;\">\n",
       "      <th></th>\n",
       "      <th>uuid</th>\n",
       "      <th>eCatId</th>\n",
       "      <th>Title</th>\n",
       "      <th>Abstract</th>\n",
       "      <th>MetadataScope</th>\n",
       "      <th>ParentMetadata</th>\n",
       "      <th>CitationDate</th>\n",
       "      <th>Purpose</th>\n",
       "      <th>Status</th>\n",
       "      <th>Keyword</th>\n",
       "      <th>...</th>\n",
       "      <th>DataStorageLink</th>\n",
       "      <th>Lineage</th>\n",
       "      <th>SourceDescription</th>\n",
       "      <th>ServiceType</th>\n",
       "      <th>CouplingType</th>\n",
       "      <th>OperationName</th>\n",
       "      <th>DistributedComputingPlatform</th>\n",
       "      <th>OperationDescription</th>\n",
       "      <th>DistributionFormat</th>\n",
       "      <th>AssociatedResourcesLink</th>\n",
       "    </tr>\n",
       "  </thead>\n",
       "  <tbody>\n",
       "    <tr>\n",
       "      <th>0</th>\n",
       "      <td>beeb5189-9f86-4961-8621-f162767ec418</td>\n",
       "      <td>124479</td>\n",
       "      <td>Alton Downs Gravity (P196240), gravity point data</td>\n",
       "      <td>Gravity data measures small changes in gravity...</td>\n",
       "      <td>dataset~Alton Downs Gravity (P196240), gravity...</td>\n",
       "      <td>NaN</td>\n",
       "      <td>2018-07-13T00:00:00~creation###2018-07-13T00:0...</td>\n",
       "      <td>NaN</td>\n",
       "      <td>completed</td>\n",
       "      <td>NCI~dataCentre###Earth sciences~discipline###g...</td>\n",
       "      <td>...</td>\n",
       "      <td>/g/data/iv65/Geoscience_Australia_Geophysics_R...</td>\n",
       "      <td>This Alton Downs Gravity (P196240), gravity po...</td>\n",
       "      <td>This Alton Downs Gravity (P196240), gravity po...</td>\n",
       "      <td>NaN</td>\n",
       "      <td>NaN</td>\n",
       "      <td>NaN</td>\n",
       "      <td>NaN</td>\n",
       "      <td>NaN</td>\n",
       "      <td>NaN</td>\n",
       "      <td>NaN</td>\n",
       "    </tr>\n",
       "    <tr>\n",
       "      <th>1</th>\n",
       "      <td>ef420cf3-f391-4d10-bfe6-bdae88b5f7f6</td>\n",
       "      <td>124509</td>\n",
       "      <td>Dalhousie Gravity 1963D9 (P196340), gravity po...</td>\n",
       "      <td>Gravity data measures small changes in gravity...</td>\n",
       "      <td>dataset~Dalhousie Gravity 1963D9 (P196340), gr...</td>\n",
       "      <td>NaN</td>\n",
       "      <td>2018-07-13T00:00:00~creation###2018-07-13T00:0...</td>\n",
       "      <td>NaN</td>\n",
       "      <td>completed</td>\n",
       "      <td>NCI~dataCentre###Earth sciences~discipline###g...</td>\n",
       "      <td>...</td>\n",
       "      <td>/g/data/iv65/Geoscience_Australia_Geophysics_R...</td>\n",
       "      <td>This Dalhousie Gravity 1963D9 (P196340), gravi...</td>\n",
       "      <td>This Dalhousie Gravity 1963D9 (P196340), gravi...</td>\n",
       "      <td>NaN</td>\n",
       "      <td>NaN</td>\n",
       "      <td>NaN</td>\n",
       "      <td>NaN</td>\n",
       "      <td>NaN</td>\n",
       "      <td>NaN</td>\n",
       "      <td>NaN</td>\n",
       "    </tr>\n",
       "    <tr>\n",
       "      <th>2</th>\n",
       "      <td>bb919033-23b3-44c9-9a07-60755a6e7141</td>\n",
       "      <td>124488</td>\n",
       "      <td>Helicopter Gravity (Contract) (P196304), gravi...</td>\n",
       "      <td>Gravity data measures small changes in gravity...</td>\n",
       "      <td>dataset~Helicopter Gravity (Contract) (P196304...</td>\n",
       "      <td>NaN</td>\n",
       "      <td>2018-07-13T00:00:00~creation###2018-07-13T00:0...</td>\n",
       "      <td>NaN</td>\n",
       "      <td>completed</td>\n",
       "      <td>NCI~dataCentre###Earth sciences~discipline###g...</td>\n",
       "      <td>...</td>\n",
       "      <td>/g/data/iv65/Geoscience_Australia_Geophysics_R...</td>\n",
       "      <td>This Helicopter Gravity (Contract) (P196304), ...</td>\n",
       "      <td>This Helicopter Gravity (Contract) (P196304), ...</td>\n",
       "      <td>NaN</td>\n",
       "      <td>NaN</td>\n",
       "      <td>NaN</td>\n",
       "      <td>NaN</td>\n",
       "      <td>NaN</td>\n",
       "      <td>NaN</td>\n",
       "      <td>NaN</td>\n",
       "    </tr>\n",
       "    <tr>\n",
       "      <th>3</th>\n",
       "      <td>0d8c4584-07e0-4fa2-8b7a-699dcb2af3da</td>\n",
       "      <td>124464</td>\n",
       "      <td>Renmark, Pata, Wanbi Gravity (P196163), gravit...</td>\n",
       "      <td>Gravity data measures small changes in gravity...</td>\n",
       "      <td>dataset~Renmark, Pata, Wanbi Gravity (P196163)...</td>\n",
       "      <td>NaN</td>\n",
       "      <td>2018-07-13T00:00:00~creation###2018-07-13T00:0...</td>\n",
       "      <td>NaN</td>\n",
       "      <td>completed</td>\n",
       "      <td>NCI~dataCentre###Earth sciences~discipline###g...</td>\n",
       "      <td>...</td>\n",
       "      <td>/g/data/iv65/Geoscience_Australia_Geophysics_R...</td>\n",
       "      <td>This Renmark, Pata, Wanbi Gravity (P196163), g...</td>\n",
       "      <td>This Renmark, Pata, Wanbi Gravity (P196163), g...</td>\n",
       "      <td>NaN</td>\n",
       "      <td>NaN</td>\n",
       "      <td>NaN</td>\n",
       "      <td>NaN</td>\n",
       "      <td>NaN</td>\n",
       "      <td>NaN</td>\n",
       "      <td>NaN</td>\n",
       "    </tr>\n",
       "    <tr>\n",
       "      <th>4</th>\n",
       "      <td>60bc1b84-59d7-4ecf-a11d-e48f4a6a9ae8</td>\n",
       "      <td>124513</td>\n",
       "      <td>Augusta Moora Gravity (P196346), gravity point...</td>\n",
       "      <td>Gravity data measures small changes in gravity...</td>\n",
       "      <td>dataset~Augusta Moora Gravity (P196346), gravi...</td>\n",
       "      <td>NaN</td>\n",
       "      <td>2018-07-13T00:00:00~creation###2018-07-13T00:0...</td>\n",
       "      <td>NaN</td>\n",
       "      <td>completed</td>\n",
       "      <td>NCI~dataCentre###Earth sciences~discipline###g...</td>\n",
       "      <td>...</td>\n",
       "      <td>/g/data/iv65/Geoscience_Australia_Geophysics_R...</td>\n",
       "      <td>This Augusta Moora Gravity (P196346), gravity ...</td>\n",
       "      <td>This Augusta Moora Gravity (P196346), gravity ...</td>\n",
       "      <td>NaN</td>\n",
       "      <td>NaN</td>\n",
       "      <td>NaN</td>\n",
       "      <td>NaN</td>\n",
       "      <td>NaN</td>\n",
       "      <td>NaN</td>\n",
       "      <td>NaN</td>\n",
       "    </tr>\n",
       "  </tbody>\n",
       "</table>\n",
       "<p>5 rows × 35 columns</p>\n",
       "</div>"
      ],
      "text/plain": [
       "                                   uuid  eCatId  \\\n",
       "0  beeb5189-9f86-4961-8621-f162767ec418  124479   \n",
       "1  ef420cf3-f391-4d10-bfe6-bdae88b5f7f6  124509   \n",
       "2  bb919033-23b3-44c9-9a07-60755a6e7141  124488   \n",
       "3  0d8c4584-07e0-4fa2-8b7a-699dcb2af3da  124464   \n",
       "4  60bc1b84-59d7-4ecf-a11d-e48f4a6a9ae8  124513   \n",
       "\n",
       "                                               Title  \\\n",
       "0  Alton Downs Gravity (P196240), gravity point data   \n",
       "1  Dalhousie Gravity 1963D9 (P196340), gravity po...   \n",
       "2  Helicopter Gravity (Contract) (P196304), gravi...   \n",
       "3  Renmark, Pata, Wanbi Gravity (P196163), gravit...   \n",
       "4  Augusta Moora Gravity (P196346), gravity point...   \n",
       "\n",
       "                                            Abstract  \\\n",
       "0  Gravity data measures small changes in gravity...   \n",
       "1  Gravity data measures small changes in gravity...   \n",
       "2  Gravity data measures small changes in gravity...   \n",
       "3  Gravity data measures small changes in gravity...   \n",
       "4  Gravity data measures small changes in gravity...   \n",
       "\n",
       "                                       MetadataScope  ParentMetadata  \\\n",
       "0  dataset~Alton Downs Gravity (P196240), gravity...             NaN   \n",
       "1  dataset~Dalhousie Gravity 1963D9 (P196340), gr...             NaN   \n",
       "2  dataset~Helicopter Gravity (Contract) (P196304...             NaN   \n",
       "3  dataset~Renmark, Pata, Wanbi Gravity (P196163)...             NaN   \n",
       "4  dataset~Augusta Moora Gravity (P196346), gravi...             NaN   \n",
       "\n",
       "                                        CitationDate  Purpose     Status  \\\n",
       "0  2018-07-13T00:00:00~creation###2018-07-13T00:0...      NaN  completed   \n",
       "1  2018-07-13T00:00:00~creation###2018-07-13T00:0...      NaN  completed   \n",
       "2  2018-07-13T00:00:00~creation###2018-07-13T00:0...      NaN  completed   \n",
       "3  2018-07-13T00:00:00~creation###2018-07-13T00:0...      NaN  completed   \n",
       "4  2018-07-13T00:00:00~creation###2018-07-13T00:0...      NaN  completed   \n",
       "\n",
       "                                             Keyword  ...  \\\n",
       "0  NCI~dataCentre###Earth sciences~discipline###g...  ...   \n",
       "1  NCI~dataCentre###Earth sciences~discipline###g...  ...   \n",
       "2  NCI~dataCentre###Earth sciences~discipline###g...  ...   \n",
       "3  NCI~dataCentre###Earth sciences~discipline###g...  ...   \n",
       "4  NCI~dataCentre###Earth sciences~discipline###g...  ...   \n",
       "\n",
       "                                     DataStorageLink  \\\n",
       "0  /g/data/iv65/Geoscience_Australia_Geophysics_R...   \n",
       "1  /g/data/iv65/Geoscience_Australia_Geophysics_R...   \n",
       "2  /g/data/iv65/Geoscience_Australia_Geophysics_R...   \n",
       "3  /g/data/iv65/Geoscience_Australia_Geophysics_R...   \n",
       "4  /g/data/iv65/Geoscience_Australia_Geophysics_R...   \n",
       "\n",
       "                                             Lineage  \\\n",
       "0  This Alton Downs Gravity (P196240), gravity po...   \n",
       "1  This Dalhousie Gravity 1963D9 (P196340), gravi...   \n",
       "2  This Helicopter Gravity (Contract) (P196304), ...   \n",
       "3  This Renmark, Pata, Wanbi Gravity (P196163), g...   \n",
       "4  This Augusta Moora Gravity (P196346), gravity ...   \n",
       "\n",
       "                                   SourceDescription ServiceType CouplingType  \\\n",
       "0  This Alton Downs Gravity (P196240), gravity po...         NaN          NaN   \n",
       "1  This Dalhousie Gravity 1963D9 (P196340), gravi...         NaN          NaN   \n",
       "2  This Helicopter Gravity (Contract) (P196304), ...         NaN          NaN   \n",
       "3  This Renmark, Pata, Wanbi Gravity (P196163), g...         NaN          NaN   \n",
       "4  This Augusta Moora Gravity (P196346), gravity ...         NaN          NaN   \n",
       "\n",
       "  OperationName DistributedComputingPlatform OperationDescription  \\\n",
       "0           NaN                          NaN                  NaN   \n",
       "1           NaN                          NaN                  NaN   \n",
       "2           NaN                          NaN                  NaN   \n",
       "3           NaN                          NaN                  NaN   \n",
       "4           NaN                          NaN                  NaN   \n",
       "\n",
       "  DistributionFormat  AssociatedResourcesLink  \n",
       "0                NaN                      NaN  \n",
       "1                NaN                      NaN  \n",
       "2                NaN                      NaN  \n",
       "3                NaN                      NaN  \n",
       "4                NaN                      NaN  \n",
       "\n",
       "[5 rows x 35 columns]"
      ]
     },
     "execution_count": 4,
     "metadata": {},
     "output_type": "execute_result"
    }
   ],
   "source": [
    "catalogue.head()"
   ]
  },
  {
   "cell_type": "markdown",
   "metadata": {},
   "source": [
    "Let's have a look at what we got."
   ]
  },
  {
   "cell_type": "code",
   "execution_count": 5,
   "metadata": {},
   "outputs": [
    {
     "data": {
      "text/plain": [
       "Index(['uuid', 'eCatId', 'Title', 'Abstract', 'MetadataScope',\n",
       "       'ParentMetadata', 'CitationDate', 'Purpose', 'Status', 'Keyword',\n",
       "       'Keyword-Thesaurus', 'TopicCategory', 'MaintenanceFrequency',\n",
       "       'ResponsibleParty', 'ResourceContact', 'MetadataContact',\n",
       "       'GeographicalExtent', 'SpatialExtentDescription',\n",
       "       'HorizontalSpatialReferenceSystem', 'VerticalExtent', 'VerticalCRS',\n",
       "       'TemporalExtent', 'ResourceLegalConstraints', 'UseLimitations',\n",
       "       'DistributionLink', 'DataStorageLink', 'Lineage', 'SourceDescription',\n",
       "       'ServiceType', 'CouplingType', 'OperationName',\n",
       "       'DistributedComputingPlatform', 'OperationDescription',\n",
       "       'DistributionFormat', 'AssociatedResourcesLink'],\n",
       "      dtype='object')"
      ]
     },
     "execution_count": 5,
     "metadata": {},
     "output_type": "execute_result"
    }
   ],
   "source": [
    "catalogue.columns"
   ]
  },
  {
   "cell_type": "markdown",
   "metadata": {},
   "source": [
    "Check the horizontal datum. Most should be in GDA94."
   ]
  },
  {
   "cell_type": "code",
   "execution_count": 6,
   "metadata": {},
   "outputs": [
    {
     "name": "stdout",
     "output_type": "stream",
     "text": [
      "['GDA94 (EPSG:4283)' 'WGS 84 (geocentric) (EPSG:4328)']\n",
      "count                  1631\n",
      "unique                    2\n",
      "top       GDA94 (EPSG:4283)\n",
      "freq                   1624\n",
      "Name: HorizontalSpatialReferenceSystem, dtype: object\n"
     ]
    }
   ],
   "source": [
    "print(catalogue.HorizontalSpatialReferenceSystem.unique())\n",
    "print(catalogue.HorizontalSpatialReferenceSystem.describe())"
   ]
  },
  {
   "cell_type": "markdown",
   "metadata": {},
   "source": [
    "No information on the vertical datum... But I think the individual datasets have this information."
   ]
  },
  {
   "cell_type": "code",
   "execution_count": 7,
   "metadata": {},
   "outputs": [
    {
     "name": "stdout",
     "output_type": "stream",
     "text": [
      "[nan]\n",
      "count    0.0\n",
      "mean     NaN\n",
      "std      NaN\n",
      "min      NaN\n",
      "25%      NaN\n",
      "50%      NaN\n",
      "75%      NaN\n",
      "max      NaN\n",
      "Name: VerticalCRS, dtype: float64\n"
     ]
    }
   ],
   "source": [
    "print(catalogue.VerticalCRS.unique())\n",
    "print(catalogue.VerticalCRS.describe())"
   ]
  },
  {
   "cell_type": "markdown",
   "metadata": {},
   "source": [
    "## Create and check the download links\n",
    "\n",
    "Make sure they all follow the same format. See the HTTP download link for the THREDDS server below. We can generate that link from the `DataStorageLink` column."
   ]
  },
  {
   "cell_type": "code",
   "execution_count": 8,
   "metadata": {},
   "outputs": [
    {
     "name": "stdout",
     "output_type": "stream",
     "text": [
      "File available for download in various formats from the GADDS2 portal~The Geophysical Archive Data Delivery System (GADDS2) portal provides HTTP download of geophysics datasets in a number of formats. Point and line datasets are available in NetCDF and ASEG-GDF2. Grid datasets are available in NetCDF, GeoTIFF and ERS.~https://portal.ga.gov.au/persona/gadds###/g/data/iv65/Geoscience_Australia_Geophysics_Reference_Data_Collection/ground_gravity/GA/point/P196240/P196240-point-gravity.nc file at NCI~Fully qualified pathname of NetCDF file on NCI filesystem for Alton Downs Gravity (P196240), gravity point data. Users must be logged onto the NCI network to access this file system.~file://iv65/Geoscience_Australia_Geophysics_Reference_Data_Collection/ground_gravity/GA/point/P196240/P196240-point-gravity.nc###/g/data/iv65/Geoscience_Australia_Geophysics_Reference_Data_Collection/ground_gravity/GA/point/P196240/P196240-point-gravity.nc file download~File download for Alton Downs Gravity (P196240), gravity point data~http://dapds00.nci.org.au/thredds/fileServer/iv65/Geoscience_Australia_Geophysics_Reference_Data_Collection/ground_gravity/GA/point/P196240/P196240-point-gravity.nc\n"
     ]
    }
   ],
   "source": [
    "print(catalogue.DistributionLink.values[0])"
   ]
  },
  {
   "cell_type": "code",
   "execution_count": 9,
   "metadata": {},
   "outputs": [],
   "source": [
    "baseurl = \"http://dapds00.nci.org.au/thredds/fileServer/\""
   ]
  },
  {
   "cell_type": "code",
   "execution_count": 10,
   "metadata": {},
   "outputs": [
    {
     "data": {
      "text/plain": [
       "'http://dapds00.nci.org.au/thredds/fileServer/iv65/Geoscience_Australia_Geophysics_Reference_Data_Collection/ground_gravity/GA/point/P196240/P196240-point-gravity.nc'"
      ]
     },
     "execution_count": 10,
     "metadata": {},
     "output_type": "execute_result"
    }
   ],
   "source": [
    "catalogue[\"DownloadLink\"] = (baseurl + catalogue.DataStorageLink.str[8:]).astype(str)\n",
    "catalogue.DownloadLink.values[0]"
   ]
  },
  {
   "cell_type": "markdown",
   "metadata": {},
   "source": [
    "Check if any of links does not point to a netCDF file (`*.nc`). These will cause trouble during the download."
   ]
  },
  {
   "cell_type": "code",
   "execution_count": 11,
   "metadata": {},
   "outputs": [
    {
     "data": {
      "text/html": [
       "<div>\n",
       "<style scoped>\n",
       "    .dataframe tbody tr th:only-of-type {\n",
       "        vertical-align: middle;\n",
       "    }\n",
       "\n",
       "    .dataframe tbody tr th {\n",
       "        vertical-align: top;\n",
       "    }\n",
       "\n",
       "    .dataframe thead th {\n",
       "        text-align: right;\n",
       "    }\n",
       "</style>\n",
       "<table border=\"1\" class=\"dataframe\">\n",
       "  <thead>\n",
       "    <tr style=\"text-align: right;\">\n",
       "      <th></th>\n",
       "      <th>uuid</th>\n",
       "      <th>eCatId</th>\n",
       "      <th>Title</th>\n",
       "      <th>Abstract</th>\n",
       "      <th>MetadataScope</th>\n",
       "      <th>ParentMetadata</th>\n",
       "      <th>CitationDate</th>\n",
       "      <th>Purpose</th>\n",
       "      <th>Status</th>\n",
       "      <th>Keyword</th>\n",
       "      <th>...</th>\n",
       "      <th>Lineage</th>\n",
       "      <th>SourceDescription</th>\n",
       "      <th>ServiceType</th>\n",
       "      <th>CouplingType</th>\n",
       "      <th>OperationName</th>\n",
       "      <th>DistributedComputingPlatform</th>\n",
       "      <th>OperationDescription</th>\n",
       "      <th>DistributionFormat</th>\n",
       "      <th>AssociatedResourcesLink</th>\n",
       "      <th>DownloadLink</th>\n",
       "    </tr>\n",
       "  </thead>\n",
       "  <tbody>\n",
       "    <tr>\n",
       "      <th>0</th>\n",
       "      <td>9def650e-7c46-4ebe-82a5-f8836b61b96b</td>\n",
       "      <td>125926</td>\n",
       "      <td>Gravity point located data of Australia Wide A...</td>\n",
       "      <td>Gravity data measures small changes in gravity...</td>\n",
       "      <td>dataset~dataset~dataset</td>\n",
       "      <td>124049.0</td>\n",
       "      <td>2012-10-03T00:00:00~publication###2018-12-19T0...</td>\n",
       "      <td>NaN</td>\n",
       "      <td>NaN</td>\n",
       "      <td>Australia~place###All States~place###survey 20...</td>\n",
       "      <td>...</td>\n",
       "      <td>This Australia Wide Absolute AFGN Survey 2012 ...</td>\n",
       "      <td>This P201299_GNDGRAV.nc dataset contains groun...</td>\n",
       "      <td>NaN</td>\n",
       "      <td>NaN</td>\n",
       "      <td>NaN</td>\n",
       "      <td>NaN</td>\n",
       "      <td>NaN</td>\n",
       "      <td>NetCDF~1###html~1###NetCDF~1###html~1</td>\n",
       "      <td>~Link to eCat metadata record landing page~htt...</td>\n",
       "      <td>http://dapds00.nci.org.au/thredds/fileServer/g...</td>\n",
       "    </tr>\n",
       "    <tr>\n",
       "      <th>2</th>\n",
       "      <td>0f5d2015-6bc4-42ec-8a0f-d6962b8a3387</td>\n",
       "      <td>124568</td>\n",
       "      <td>Gravity point located data of Australia Wide I...</td>\n",
       "      <td>Gravity data measures small changes in gravity...</td>\n",
       "      <td>dataset~dataset~dataset</td>\n",
       "      <td>124049.0</td>\n",
       "      <td>2001-06-07T00:00:00~publication###2018-12-19T0...</td>\n",
       "      <td>NaN</td>\n",
       "      <td>NaN</td>\n",
       "      <td>Australia~place###All states~place###Earth sci...</td>\n",
       "      <td>...</td>\n",
       "      <td>This Australia Wide Isogal dataset release con...</td>\n",
       "      <td>This P196500_GNDGRAV.nc dataset contains groun...</td>\n",
       "      <td>NaN</td>\n",
       "      <td>NaN</td>\n",
       "      <td>NaN</td>\n",
       "      <td>NaN</td>\n",
       "      <td>NaN</td>\n",
       "      <td>NetCDF~1###html~1###NetCDF~1###html~1</td>\n",
       "      <td>~Link to eCat metadata record landing page~htt...</td>\n",
       "      <td>http://dapds00.nci.org.au/thredds/fileServer/g...</td>\n",
       "    </tr>\n",
       "    <tr>\n",
       "      <th>12</th>\n",
       "      <td>d7dc1762-1c4a-42cc-830c-82e932703fef</td>\n",
       "      <td>124540</td>\n",
       "      <td>Gravity point located data of Australia Wide G...</td>\n",
       "      <td>Gravity data measures small changes in gravity...</td>\n",
       "      <td>dataset~dataset~dataset</td>\n",
       "      <td>124049.0</td>\n",
       "      <td>2001-06-07T00:00:00~publication###2018-12-19T0...</td>\n",
       "      <td>NaN</td>\n",
       "      <td>NaN</td>\n",
       "      <td>point~featureType###survey 196410~project###Au...</td>\n",
       "      <td>...</td>\n",
       "      <td>This Australia Wide Grav dataset release conta...</td>\n",
       "      <td>This P196410_GNDGRAV.nc dataset contains groun...</td>\n",
       "      <td>NaN</td>\n",
       "      <td>NaN</td>\n",
       "      <td>NaN</td>\n",
       "      <td>NaN</td>\n",
       "      <td>NaN</td>\n",
       "      <td>NetCDF~1###html~1###NetCDF~1###html~1</td>\n",
       "      <td>~Link to eCat metadata record landing page~htt...</td>\n",
       "      <td>http://dapds00.nci.org.au/thredds/fileServer/g...</td>\n",
       "    </tr>\n",
       "    <tr>\n",
       "      <th>17</th>\n",
       "      <td>e5dcf7e0-c092-4bd4-98cc-1546d36ba8c4</td>\n",
       "      <td>125870</td>\n",
       "      <td>Gravity point located data of Australia Wide A...</td>\n",
       "      <td>Gravity data measures small changes in gravity...</td>\n",
       "      <td>dataset~dataset~dataset</td>\n",
       "      <td>124049.0</td>\n",
       "      <td>2008-02-08T00:00:00~publication###2018-12-19T0...</td>\n",
       "      <td>NaN</td>\n",
       "      <td>NaN</td>\n",
       "      <td>NCI~dataCentre###Australia~place###point~featu...</td>\n",
       "      <td>...</td>\n",
       "      <td>This Australia Wide Absolute Gravity Readings ...</td>\n",
       "      <td>This P200799_GNDGRAV.nc dataset contains groun...</td>\n",
       "      <td>NaN</td>\n",
       "      <td>NaN</td>\n",
       "      <td>NaN</td>\n",
       "      <td>NaN</td>\n",
       "      <td>NaN</td>\n",
       "      <td>NetCDF~1###html~1###NetCDF~1###html~1</td>\n",
       "      <td>~Link to eCat metadata record landing page~htt...</td>\n",
       "      <td>http://dapds00.nci.org.au/thredds/fileServer/g...</td>\n",
       "    </tr>\n",
       "    <tr>\n",
       "      <th>21</th>\n",
       "      <td>5f2f04db-09f3-442d-a7f5-02ef83432756</td>\n",
       "      <td>125962</td>\n",
       "      <td>Gravity point located data of Australia Wide A...</td>\n",
       "      <td>Gravity data measures small changes in gravity...</td>\n",
       "      <td>dataset~dataset~dataset</td>\n",
       "      <td>124049.0</td>\n",
       "      <td>2017-02-01T00:00:00~publication###2018-12-19T0...</td>\n",
       "      <td>NaN</td>\n",
       "      <td>NaN</td>\n",
       "      <td>point~featureType###survey 201691~project###gr...</td>\n",
       "      <td>...</td>\n",
       "      <td>This Australia Wide AFGN Absolute 2016 dataset...</td>\n",
       "      <td>This P201691_GNDGRAV.nc dataset contains groun...</td>\n",
       "      <td>NaN</td>\n",
       "      <td>NaN</td>\n",
       "      <td>NaN</td>\n",
       "      <td>NaN</td>\n",
       "      <td>NaN</td>\n",
       "      <td>NetCDF~1###html~1###NetCDF~1###html~1</td>\n",
       "      <td>~Link to eCat metadata record landing page~htt...</td>\n",
       "      <td>http://dapds00.nci.org.au/thredds/fileServer/g...</td>\n",
       "    </tr>\n",
       "    <tr>\n",
       "      <th>22</th>\n",
       "      <td>cdce3d42-870c-4cb9-8078-bbe6099a7beb</td>\n",
       "      <td>125940</td>\n",
       "      <td>Gravity point located data of Australia wide A...</td>\n",
       "      <td>Gravity data measures small changes in gravity...</td>\n",
       "      <td>dataset~dataset~dataset</td>\n",
       "      <td>124049.0</td>\n",
       "      <td>2013-08-21T00:00:00~publication###2018-12-19T0...</td>\n",
       "      <td>NaN</td>\n",
       "      <td>NaN</td>\n",
       "      <td>survey 201391~project###point~featureType###NC...</td>\n",
       "      <td>...</td>\n",
       "      <td>This Australia wide AFGN Absolute 2013 dataset...</td>\n",
       "      <td>This P201391_GNDGRAV.nc dataset contains groun...</td>\n",
       "      <td>NaN</td>\n",
       "      <td>NaN</td>\n",
       "      <td>NaN</td>\n",
       "      <td>NaN</td>\n",
       "      <td>NaN</td>\n",
       "      <td>NetCDF~1###html~1###NetCDF~1###html~1</td>\n",
       "      <td>~Link to eCat metadata record landing page~htt...</td>\n",
       "      <td>http://dapds00.nci.org.au/thredds/fileServer/g...</td>\n",
       "    </tr>\n",
       "    <tr>\n",
       "      <th>29</th>\n",
       "      <td>bbb5c0bd-3fa7-47f7-b01d-f5c917eedb32</td>\n",
       "      <td>125957</td>\n",
       "      <td>Gravity point located data of Australia Wide A...</td>\n",
       "      <td>Gravity data measures small changes in gravity...</td>\n",
       "      <td>dataset~dataset~dataset</td>\n",
       "      <td>124049.0</td>\n",
       "      <td>2015-07-22T00:00:00~publication###2018-12-19T0...</td>\n",
       "      <td>NaN</td>\n",
       "      <td>NaN</td>\n",
       "      <td>Earth sciences~discipline###geophysics~discipl...</td>\n",
       "      <td>...</td>\n",
       "      <td>This Australia Wide AFGN Absolute 2015 dataset...</td>\n",
       "      <td>This P201590_GNDGRAV.nc dataset contains groun...</td>\n",
       "      <td>NaN</td>\n",
       "      <td>NaN</td>\n",
       "      <td>NaN</td>\n",
       "      <td>NaN</td>\n",
       "      <td>NaN</td>\n",
       "      <td>NetCDF~1###html~1###NetCDF~1###html~1</td>\n",
       "      <td>~Link to eCat metadata record landing page~htt...</td>\n",
       "      <td>http://dapds00.nci.org.au/thredds/fileServer/g...</td>\n",
       "    </tr>\n",
       "  </tbody>\n",
       "</table>\n",
       "<p>7 rows × 36 columns</p>\n",
       "</div>"
      ],
      "text/plain": [
       "                                    uuid  eCatId  \\\n",
       "0   9def650e-7c46-4ebe-82a5-f8836b61b96b  125926   \n",
       "2   0f5d2015-6bc4-42ec-8a0f-d6962b8a3387  124568   \n",
       "12  d7dc1762-1c4a-42cc-830c-82e932703fef  124540   \n",
       "17  e5dcf7e0-c092-4bd4-98cc-1546d36ba8c4  125870   \n",
       "21  5f2f04db-09f3-442d-a7f5-02ef83432756  125962   \n",
       "22  cdce3d42-870c-4cb9-8078-bbe6099a7beb  125940   \n",
       "29  bbb5c0bd-3fa7-47f7-b01d-f5c917eedb32  125957   \n",
       "\n",
       "                                                Title  \\\n",
       "0   Gravity point located data of Australia Wide A...   \n",
       "2   Gravity point located data of Australia Wide I...   \n",
       "12  Gravity point located data of Australia Wide G...   \n",
       "17  Gravity point located data of Australia Wide A...   \n",
       "21  Gravity point located data of Australia Wide A...   \n",
       "22  Gravity point located data of Australia wide A...   \n",
       "29  Gravity point located data of Australia Wide A...   \n",
       "\n",
       "                                             Abstract  \\\n",
       "0   Gravity data measures small changes in gravity...   \n",
       "2   Gravity data measures small changes in gravity...   \n",
       "12  Gravity data measures small changes in gravity...   \n",
       "17  Gravity data measures small changes in gravity...   \n",
       "21  Gravity data measures small changes in gravity...   \n",
       "22  Gravity data measures small changes in gravity...   \n",
       "29  Gravity data measures small changes in gravity...   \n",
       "\n",
       "              MetadataScope  ParentMetadata  \\\n",
       "0   dataset~dataset~dataset        124049.0   \n",
       "2   dataset~dataset~dataset        124049.0   \n",
       "12  dataset~dataset~dataset        124049.0   \n",
       "17  dataset~dataset~dataset        124049.0   \n",
       "21  dataset~dataset~dataset        124049.0   \n",
       "22  dataset~dataset~dataset        124049.0   \n",
       "29  dataset~dataset~dataset        124049.0   \n",
       "\n",
       "                                         CitationDate  Purpose Status  \\\n",
       "0   2012-10-03T00:00:00~publication###2018-12-19T0...      NaN    NaN   \n",
       "2   2001-06-07T00:00:00~publication###2018-12-19T0...      NaN    NaN   \n",
       "12  2001-06-07T00:00:00~publication###2018-12-19T0...      NaN    NaN   \n",
       "17  2008-02-08T00:00:00~publication###2018-12-19T0...      NaN    NaN   \n",
       "21  2017-02-01T00:00:00~publication###2018-12-19T0...      NaN    NaN   \n",
       "22  2013-08-21T00:00:00~publication###2018-12-19T0...      NaN    NaN   \n",
       "29  2015-07-22T00:00:00~publication###2018-12-19T0...      NaN    NaN   \n",
       "\n",
       "                                              Keyword  ...  \\\n",
       "0   Australia~place###All States~place###survey 20...  ...   \n",
       "2   Australia~place###All states~place###Earth sci...  ...   \n",
       "12  point~featureType###survey 196410~project###Au...  ...   \n",
       "17  NCI~dataCentre###Australia~place###point~featu...  ...   \n",
       "21  point~featureType###survey 201691~project###gr...  ...   \n",
       "22  survey 201391~project###point~featureType###NC...  ...   \n",
       "29  Earth sciences~discipline###geophysics~discipl...  ...   \n",
       "\n",
       "                                              Lineage  \\\n",
       "0   This Australia Wide Absolute AFGN Survey 2012 ...   \n",
       "2   This Australia Wide Isogal dataset release con...   \n",
       "12  This Australia Wide Grav dataset release conta...   \n",
       "17  This Australia Wide Absolute Gravity Readings ...   \n",
       "21  This Australia Wide AFGN Absolute 2016 dataset...   \n",
       "22  This Australia wide AFGN Absolute 2013 dataset...   \n",
       "29  This Australia Wide AFGN Absolute 2015 dataset...   \n",
       "\n",
       "                                    SourceDescription  ServiceType  \\\n",
       "0   This P201299_GNDGRAV.nc dataset contains groun...          NaN   \n",
       "2   This P196500_GNDGRAV.nc dataset contains groun...          NaN   \n",
       "12  This P196410_GNDGRAV.nc dataset contains groun...          NaN   \n",
       "17  This P200799_GNDGRAV.nc dataset contains groun...          NaN   \n",
       "21  This P201691_GNDGRAV.nc dataset contains groun...          NaN   \n",
       "22  This P201391_GNDGRAV.nc dataset contains groun...          NaN   \n",
       "29  This P201590_GNDGRAV.nc dataset contains groun...          NaN   \n",
       "\n",
       "   CouplingType OperationName DistributedComputingPlatform  \\\n",
       "0           NaN           NaN                          NaN   \n",
       "2           NaN           NaN                          NaN   \n",
       "12          NaN           NaN                          NaN   \n",
       "17          NaN           NaN                          NaN   \n",
       "21          NaN           NaN                          NaN   \n",
       "22          NaN           NaN                          NaN   \n",
       "29          NaN           NaN                          NaN   \n",
       "\n",
       "   OperationDescription                     DistributionFormat  \\\n",
       "0                   NaN  NetCDF~1###html~1###NetCDF~1###html~1   \n",
       "2                   NaN  NetCDF~1###html~1###NetCDF~1###html~1   \n",
       "12                  NaN  NetCDF~1###html~1###NetCDF~1###html~1   \n",
       "17                  NaN  NetCDF~1###html~1###NetCDF~1###html~1   \n",
       "21                  NaN  NetCDF~1###html~1###NetCDF~1###html~1   \n",
       "22                  NaN  NetCDF~1###html~1###NetCDF~1###html~1   \n",
       "29                  NaN  NetCDF~1###html~1###NetCDF~1###html~1   \n",
       "\n",
       "                              AssociatedResourcesLink  \\\n",
       "0   ~Link to eCat metadata record landing page~htt...   \n",
       "2   ~Link to eCat metadata record landing page~htt...   \n",
       "12  ~Link to eCat metadata record landing page~htt...   \n",
       "17  ~Link to eCat metadata record landing page~htt...   \n",
       "21  ~Link to eCat metadata record landing page~htt...   \n",
       "22  ~Link to eCat metadata record landing page~htt...   \n",
       "29  ~Link to eCat metadata record landing page~htt...   \n",
       "\n",
       "                                         DownloadLink  \n",
       "0   http://dapds00.nci.org.au/thredds/fileServer/g...  \n",
       "2   http://dapds00.nci.org.au/thredds/fileServer/g...  \n",
       "12  http://dapds00.nci.org.au/thredds/fileServer/g...  \n",
       "17  http://dapds00.nci.org.au/thredds/fileServer/g...  \n",
       "21  http://dapds00.nci.org.au/thredds/fileServer/g...  \n",
       "22  http://dapds00.nci.org.au/thredds/fileServer/g...  \n",
       "29  http://dapds00.nci.org.au/thredds/fileServer/g...  \n",
       "\n",
       "[7 rows x 36 columns]"
      ]
     },
     "execution_count": 11,
     "metadata": {},
     "output_type": "execute_result"
    }
   ],
   "source": [
    "not_nc = ~catalogue.DataStorageLink.str.endswith(\".nc\")\n",
    "invalid_storage_link = catalogue.loc[not_nc, :]\n",
    "invalid_storage_link"
   ]
  },
  {
   "cell_type": "markdown",
   "metadata": {},
   "source": [
    "Let's see what the link and distribution information look like for these entries."
   ]
  },
  {
   "cell_type": "code",
   "execution_count": 12,
   "metadata": {},
   "outputs": [
    {
     "name": "stdout",
     "output_type": "stream",
     "text": [
      "Link: file:///g/data1/rr2/ground_gravity/Commonwealth/P201299/points/P201299_GNDGRAV\n",
      "ID: 9def650e-7c46-4ebe-82a5-f8836b61b96b\n",
      "Info: nan\n",
      "Link: file:///g/data1/rr2/ground_gravity/Commonwealth/P196500/points/P196500_GNDGRAV\n",
      "ID: 0f5d2015-6bc4-42ec-8a0f-d6962b8a3387\n",
      "Info: nan\n",
      "Link: file:///g/data1/rr2/ground_gravity/Commonwealth/P196410/points/P196410_GNDGRAV\n",
      "ID: d7dc1762-1c4a-42cc-830c-82e932703fef\n",
      "Info: nan\n",
      "Link: file:///g/data1/rr2/ground_gravity/Commonwealth/P200799/points/P200799_GNDGRAV\n",
      "ID: e5dcf7e0-c092-4bd4-98cc-1546d36ba8c4\n",
      "Info: nan\n",
      "Link: file:///g/data1/rr2/ground_gravity/Commonwealth/P201691/points/P201691_GNDGRAV\n",
      "ID: 5f2f04db-09f3-442d-a7f5-02ef83432756\n",
      "Info: nan\n",
      "Link: file:///g/data1/rr2/ground_gravity/Commonwealth/P201391/points/P201391_GNDGRAV\n",
      "ID: cdce3d42-870c-4cb9-8078-bbe6099a7beb\n",
      "Info: nan\n",
      "Link: file:///g/data1/rr2/ground_gravity/Commonwealth/P201590/points/P201590_GNDGRAV\n",
      "ID: bbb5c0bd-3fa7-47f7-b01d-f5c917eedb32\n",
      "Info: nan\n"
     ]
    }
   ],
   "source": [
    "for i, row in invalid_storage_link.iterrows():\n",
    "    print(\"Link:\", row.DataStorageLink)\n",
    "    print(\"ID:\", row.uuid)\n",
    "    print(\"Info:\", row.DistributionLink)"
   ]
  },
  {
   "cell_type": "markdown",
   "metadata": {},
   "source": [
    "No luck there with the missing info. But searching the catalogue for the ID led me to the [actual THREDDS catalogue entry](http://dapds00.nci.org.au/thredds/catalog/rr2/ground_gravity/Commonwealth/P201299/points/P201299_GNDGRAV/catalog.html?dataset=rr2-Ground_Gravity/Commonwealth/P201299/points/P201299_GNDGRAV/P201299_GNDGRAV.nc) which has this link:\n",
    "\n",
    "http://dapds00.nci.org.au/thredds/fileServer/rr2/ground_gravity/Commonwealth/P201299/points/P201299_GNDGRAV/P201299_GNDGRAV.nc\n",
    "\n",
    "So the base URL is the same but the way to format those entries is slightly different."
   ]
  },
  {
   "cell_type": "code",
   "execution_count": 13,
   "metadata": {},
   "outputs": [],
   "source": [
    "catalogue.loc[not_nc, \"DownloadLink\"] = (\n",
    "    baseurl \n",
    "    + invalid_storage_link.DataStorageLink.str[16:] \n",
    "    + \"/\"\n",
    "    + invalid_storage_link.DataStorageLink.str.split(\"/\", expand=True).iloc[:, -1]\n",
    "    + \".nc\"\n",
    ")"
   ]
  },
  {
   "cell_type": "code",
   "execution_count": 14,
   "metadata": {},
   "outputs": [
    {
     "name": "stdout",
     "output_type": "stream",
     "text": [
      "Link: http://dapds00.nci.org.au/thredds/fileServer/rr2/ground_gravity/Commonwealth/P201299/points/P201299_GNDGRAV/P201299_GNDGRAV.nc\n",
      "Link: http://dapds00.nci.org.au/thredds/fileServer/rr2/ground_gravity/Commonwealth/P196500/points/P196500_GNDGRAV/P196500_GNDGRAV.nc\n",
      "Link: http://dapds00.nci.org.au/thredds/fileServer/rr2/ground_gravity/Commonwealth/P196410/points/P196410_GNDGRAV/P196410_GNDGRAV.nc\n",
      "Link: http://dapds00.nci.org.au/thredds/fileServer/rr2/ground_gravity/Commonwealth/P200799/points/P200799_GNDGRAV/P200799_GNDGRAV.nc\n",
      "Link: http://dapds00.nci.org.au/thredds/fileServer/rr2/ground_gravity/Commonwealth/P201691/points/P201691_GNDGRAV/P201691_GNDGRAV.nc\n",
      "Link: http://dapds00.nci.org.au/thredds/fileServer/rr2/ground_gravity/Commonwealth/P201391/points/P201391_GNDGRAV/P201391_GNDGRAV.nc\n",
      "Link: http://dapds00.nci.org.au/thredds/fileServer/rr2/ground_gravity/Commonwealth/P201590/points/P201590_GNDGRAV/P201590_GNDGRAV.nc\n"
     ]
    }
   ],
   "source": [
    "for i, row in catalogue[not_nc].iterrows():\n",
    "    print(\"Link:\", row.DownloadLink)"
   ]
  },
  {
   "cell_type": "markdown",
   "metadata": {},
   "source": [
    "Make sure the download links are unique and we haven't messed anything up."
   ]
  },
  {
   "cell_type": "code",
   "execution_count": 15,
   "metadata": {},
   "outputs": [
    {
     "data": {
      "text/plain": [
       "True"
      ]
     },
     "execution_count": 15,
     "metadata": {},
     "output_type": "execute_result"
    }
   ],
   "source": [
    "catalogue.DownloadLink.unique().size == catalogue.shape[0]"
   ]
  },
  {
   "cell_type": "markdown",
   "metadata": {},
   "source": [
    "## Get the download size of each survey\n",
    "\n",
    "It would be nice to know the size of these datasets before we actually download them. We can do that with a GET request, which also lets us check if the link is valid."
   ]
  },
  {
   "cell_type": "code",
   "execution_count": 16,
   "metadata": {},
   "outputs": [
    {
     "name": "stderr",
     "output_type": "stream",
     "text": [
      "100%|███████████████████████████████████████████████████████████| 1631/1631 [46:08<00:00,  1.70s/it]\n"
     ]
    }
   ],
   "source": [
    "nbytes = []\n",
    "failed = []\n",
    "for i, url in enumerate(tqdm(catalogue.DownloadLink.values, ncols=100)):\n",
    "    response = requests.get(url, stream=True)\n",
    "    # Keep track of any failed requests\n",
    "    if response.status_code != 200:\n",
    "        failed.append((i, url))\n",
    "    nbytes.append(int(response.headers[\"Content-length\"]))"
   ]
  },
  {
   "cell_type": "code",
   "execution_count": 17,
   "metadata": {},
   "outputs": [
    {
     "name": "stdout",
     "output_type": "stream",
     "text": [
      "[(1615, 'http://dapds00.nci.org.au/thredds/fileServer/iv65/Geoscience_Australia_Geophysics_Reference_Data_Collection/ground_gravity/WA/point/P198634/P198634-point-gravity.nc'), (1619, 'http://dapds00.nci.org.au/thredds/fileServer/iv65/Geoscience_Australia_Geophysics_Reference_Data_Collection/ground_gravity/TAS/point/P198751/P198751-point-gravity.nc')]\n"
     ]
    }
   ],
   "source": [
    "print(failed)"
   ]
  },
  {
   "cell_type": "markdown",
   "metadata": {},
   "source": [
    "Add the size information to the catalogue."
   ]
  },
  {
   "cell_type": "code",
   "execution_count": 18,
   "metadata": {},
   "outputs": [],
   "source": [
    "catalogue[\"SizeBytes\"] = nbytes"
   ]
  },
  {
   "cell_type": "markdown",
   "metadata": {},
   "source": [
    "Plot the distribution of file sizes."
   ]
  },
  {
   "cell_type": "code",
   "execution_count": 19,
   "metadata": {},
   "outputs": [
    {
     "data": {
      "image/png": "[encoded data removed]",
      "text/plain": [
       "<Figure size 432x288 with 1 Axes>"
      ]
     },
     "metadata": {
      "needs_background": "light"
     },
     "output_type": "display_data"
    }
   ],
   "source": [
    "plt.figure()\n",
    "plt.hist(catalogue.SizeBytes * 1e-6, bins=100)\n",
    "plt.xlabel(\"File size (MB)\")\n",
    "plt.show()"
   ]
  },
  {
   "cell_type": "markdown",
   "metadata": {},
   "source": [
    "Calculate the total size."
   ]
  },
  {
   "cell_type": "code",
   "execution_count": 20,
   "metadata": {},
   "outputs": [
    {
     "name": "stdout",
     "output_type": "stream",
     "text": [
      "Total download size: 387.599961 MB\n"
     ]
    }
   ],
   "source": [
    "print(f\"Total download size: {catalogue.SizeBytes.sum() * 1e-6} MB\")"
   ]
  },
  {
   "cell_type": "markdown",
   "metadata": {},
   "source": [
    "## Export to CSV"
   ]
  },
  {
   "cell_type": "code",
   "execution_count": 21,
   "metadata": {},
   "outputs": [],
   "source": [
    "catalogue.to_csv(metadata_diradata_dir / \"records.csv\", index=False)"
   ]
  }
 ],
 "metadata": {
  "kernelspec": {
   "display_name": "Python [conda env:australia-gravity]",
   "language": "python",
   "name": "conda-env-australia-gravity-py"
  },
  "language_info": {
   "codemirror_mode": {
    "name": "ipython",
    "version": 3
   },
   "file_extension": ".py",
   "mimetype": "text/x-python",
   "name": "python",
   "nbconvert_exporter": "python",
   "pygments_lexer": "ipython3",
   "version": "3.8.6"
  }
 },
 "nbformat": 4,
 "nbformat_minor": 4
}
