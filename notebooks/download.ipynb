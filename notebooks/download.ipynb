{
 "cells": [
  {
   "cell_type": "markdown",
   "metadata": {},
   "source": [
    "# Download surveys\n",
    "\n",
    "Now that we have a catalogue of all surveys and a download link for each (see [`catalogue.ipynb`](catalogue.ipynb)), we can easily (famous last words) download them using [Pooch](https://www.fatiando.org/pooch/latest/)."
   ]
  },
  {
   "cell_type": "code",
   "execution_count": 1,
   "metadata": {},
   "outputs": [],
   "source": [
    "from pathlib import Path\n",
    "import pandas as pd\n",
    "import xarray as xr\n",
    "from tqdm import tqdm\n",
    "import pooch"
   ]
  },
  {
   "cell_type": "markdown",
   "metadata": {},
   "source": [
    "Read in the processed records."
   ]
  },
  {
   "cell_type": "code",
   "execution_count": 2,
   "metadata": {},
   "outputs": [],
   "source": [
    "catalogue = pd.read_csv(Path(\"..\") / \"metadata\" / \"records.csv\")"
   ]
  },
  {
   "cell_type": "markdown",
   "metadata": {},
   "source": [
    "Since we're batch downloading using `pooch.retrieve`, we don't want it printing 1600 log messages."
   ]
  },
  {
   "cell_type": "code",
   "execution_count": 3,
   "metadata": {},
   "outputs": [],
   "source": [
    "pooch.get_logger().setLevel(\"WARNING\")"
   ]
  },
  {
   "cell_type": "markdown",
   "metadata": {},
   "source": [
    "Download each dataset to a `data` folder in the root of the repository. Keep track of any failed downloads but carry on downloading. Pooch is smart enough to not download something twice if we need to run this again."
   ]
  },
  {
   "cell_type": "code",
   "execution_count": 4,
   "metadata": {},
   "outputs": [
    {
     "name": "stderr",
     "output_type": "stream",
     "text": [
      "100%|█████████████████████████████████████████████████████████| 1631/1631 [00:00<00:00, 8158.73it/s]\n"
     ]
    }
   ],
   "source": [
    "failed = []\n",
    "for i, url in enumerate(tqdm(catalogue.DownloadLink, ncols=100)):\n",
    "    try:\n",
    "        pooch.retrieve(url, known_hash=None, path=Path(\"..\") / \"data\")\n",
    "    except:\n",
    "        failed.append((i, url))            "
   ]
  },
  {
   "cell_type": "code",
   "execution_count": 5,
   "metadata": {},
   "outputs": [
    {
     "name": "stdout",
     "output_type": "stream",
     "text": [
      "[]\n"
     ]
    }
   ],
   "source": [
    "print(failed)"
   ]
  }
 ],
 "metadata": {
  "kernelspec": {
   "display_name": "Python [conda env:australia-gravity]",
   "language": "python",
   "name": "conda-env-australia-gravity-py"
  },
  "language_info": {
   "codemirror_mode": {
    "name": "ipython",
    "version": 3
   },
   "file_extension": ".py",
   "mimetype": "text/x-python",
   "name": "python",
   "nbconvert_exporter": "python",
   "pygments_lexer": "ipython3",
   "version": "3.8.6"
  }
 },
 "nbformat": 4,
 "nbformat_minor": 4
}
